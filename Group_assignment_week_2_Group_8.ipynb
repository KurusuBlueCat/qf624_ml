{
 "cells": [
  {
   "cell_type": "markdown",
   "metadata": {},
   "source": [
    "## Group members: Miti Nopnirapath, Tao Tianli, Yin Mingze, Zheng Ruohan, Zhu Yilin"
   ]
  },
  {
   "cell_type": "markdown",
   "metadata": {
    "id": "fm7qH8v5aVE1"
   },
   "source": [
    "## Generate synthetic data for linear regression\n",
    "\n",
    "Create a function that generates a synthetic dataset for linear regression. The function should take the number of samples, the slope, the intercept, and noise as arguments, and return a NumPy array of input values (X) and corresponding output values (Y)."
   ]
  },
  {
   "cell_type": "code",
   "execution_count": 1,
   "metadata": {},
   "outputs": [],
   "source": [
    "import numpy as np\n",
    "import matplotlib.pyplot as plt"
   ]
  },
  {
   "cell_type": "code",
   "execution_count": 2,
   "metadata": {
    "id": "D6FjrDAHb9Pz"
   },
   "outputs": [],
   "source": [
    "np.random.seed(0)\n",
    "def generate_synthetic_data(n_samples, slope, intercept, noise_std_dev):\n",
    "    # Your code here\n",
    "    \"\"\"\n",
    "    Input:\n",
    "        num_samples (int): The number of samples to generate.\n",
    "        slope (float): The slope of the linear relationship.\n",
    "        intercept (float): The intercept of the linear relationship.\n",
    "        noise (float): The standard deviation of the normally distributed noise.\n",
    "\n",
    "        small improvement\n",
    "\n",
    "    Output:\n",
    "        Tuple of NumPy arrays (X, Y).\n",
    "    \"\"\"    \n",
    "    X = np.linspace(0,5,n_samples)\n",
    "    Y = intercept + slope * X + np.random.normal(0, noise_std_dev, n_samples)\n",
    "    return X, Y    \n",
    "    \n",
    "X, Y = generate_synthetic_data(100, 2, 5, 1)"
   ]
  },
  {
   "cell_type": "code",
   "execution_count": 3,
   "metadata": {},
   "outputs": [
    {
     "data": {
      "text/plain": [
       "<matplotlib.collections.PathCollection at 0x7fa49e3920a0>"
      ]
     },
     "execution_count": 3,
     "metadata": {},
     "output_type": "execute_result"
    },
    {
     "data": {
      "image/png": "[encoded data removed]",
      "text/plain": [
       "<Figure size 432x288 with 1 Axes>"
      ]
     },
     "metadata": {
      "needs_background": "light"
     },
     "output_type": "display_data"
    }
   ],
   "source": [
    "# visualise the synthetic data\n",
    "plt.scatter(X, Y)"
   ]
  },
  {
   "cell_type": "markdown",
   "metadata": {
    "id": "wBSgJ45xa7uk"
   },
   "source": [
    "## Implement simple linear regression using the normal equation\n",
    "\n",
    "Implement simple linear regression using the normal equation, and fit a model to the synthetic data generated in Exercise 1."
   ]
  },
  {
   "cell_type": "code",
   "execution_count": 4,
   "metadata": {
    "id": "scqrYzrHanYd"
   },
   "outputs": [],
   "source": [
    "def normal_equation(X, Y):\n",
    "    # Your code here\n",
    "    \n",
    "    #X_ has a constant column added\n",
    "    X_ = np.vstack([np.ones(X.shape[0]), X]).T\n",
    "\n",
    "    # b = np.linalg.inv(X_.T @ X_) @ X_.T @ Y #equivalent based on first principle\n",
    "    b = np.linalg.solve(X_.T @ X_, X_.T @ Y) #numerically more stable\n",
    "    return b\n",
    "\n",
    "intercept_estimate, slope_estimate = normal_equation(X, Y)"
   ]
  },
  {
   "cell_type": "code",
   "execution_count": 5,
   "metadata": {},
   "outputs": [
    {
     "name": "stdout",
     "output_type": "stream",
     "text": [
      "Intercept using closed-form formula: 5.208471447842211\n",
      "Slope using closed-form formula: 1.9405346270769106\n"
     ]
    }
   ],
   "source": [
    "print(f\"Intercept using closed-form formula: {float(intercept_estimate)}\")\n",
    "print(f\"Slope using closed-form formula: {float(slope_estimate)}\")"
   ]
  },
  {
   "cell_type": "markdown",
   "metadata": {
    "id": "Bzit6j8NbG_P"
   },
   "source": [
    "## Use scikit-learn for linear regression\n",
    "\n",
    "Use the scikit-learn library to fit a linear regression model to the synthetic data generated in Exercise 1, and compare the results with the models obtained in Exercises 2."
   ]
  },
  {
   "cell_type": "code",
   "execution_count": 6,
   "metadata": {
    "id": "nLow2ULabGOC"
   },
   "outputs": [],
   "source": [
    "from sklearn.linear_model import LinearRegression\n",
    "\n",
    "def sklearn_linear_regression(X, Y):\n",
    "    # Your code here\n",
    "    X = X.reshape(-1,1)\n",
    "    Y = Y.reshape(-1,1)\n",
    "    model = LinearRegression()\n",
    "    model.fit(X, Y)\n",
    "    slope_estimate = model.coef_\n",
    "    intercept_estimate = model.intercept_\n",
    "    return slope_estimate, intercept_estimate\n",
    "slope_estimate, intercept_estimate = sklearn_linear_regression(X, Y)\n"
   ]
  },
  {
   "cell_type": "code",
   "execution_count": 7,
   "metadata": {},
   "outputs": [
    {
     "name": "stdout",
     "output_type": "stream",
     "text": [
      "Intercept using sklearn: 5.208471447842206\n",
      "Slope using sklearn: 1.9405346270769113\n"
     ]
    }
   ],
   "source": [
    "print(f\"Intercept using sklearn: {float(intercept_estimate)}\")\n",
    "print(f\"Slope using sklearn: {float(slope_estimate)}\")"
   ]
  },
  {
   "cell_type": "code",
   "execution_count": 8,
   "metadata": {},
   "outputs": [
    {
     "data": {
      "text/plain": [
       "[<matplotlib.lines.Line2D at 0x7fa49ff2f2e0>]"
      ]
     },
     "execution_count": 8,
     "metadata": {},
     "output_type": "execute_result"
    },
    {
     "data": {
      "image/png": "[encoded data removed]",
      "text/plain": [
       "<Figure size 432x288 with 1 Axes>"
      ]
     },
     "metadata": {
      "needs_background": "light"
     },
     "output_type": "display_data"
    }
   ],
   "source": [
    "# visualise true form VS prediction\n",
    "\n",
    "Y_true = 5 + 2 * X\n",
    "\n",
    "Y_pred = intercept_estimate + slope_estimate * X\n",
    "\n",
    "plt.scatter(X, Y)\n",
    "plt.plot(X.reshape(-1,1), Y_true.reshape(-1,1))\n",
    "plt.plot(X.reshape(-1,1), Y_pred.reshape(-1,1))"
   ]
  },
  {
   "cell_type": "markdown",
   "metadata": {
    "id": "1nlK3--wbYqr"
   },
   "source": [
    "## Evaluate model performance\n",
    "\n",
    "Create a function that calculates the Mean Squared Error (MSE) and R-squared score for a given set of true output values (Y) and predicted output values (Y_pred)."
   ]
  },
  {
   "cell_type": "code",
   "execution_count": 9,
   "metadata": {},
   "outputs": [],
   "source": [
    "from sklearn.metrics import mean_squared_error"
   ]
  },
  {
   "cell_type": "code",
   "execution_count": 10,
   "metadata": {
    "id": "yBJx2708bVXL"
   },
   "outputs": [],
   "source": [
    "def evaluate_model(Y, Y_pred):\n",
    "    # Your code here\n",
    "    Y = Y.reshape(-1,1)\n",
    "    Y_pred = Y_pred.reshape(-1,1)\n",
    "    r2 = 1 - (sum((Y-Y_pred)**2)) / (sum((Y-Y.mean())**2))\n",
    "    mse = mean_squared_error(Y, Y_pred)\n",
    "    return mse, r2\n",
    "mse, r2 = evaluate_model(Y, Y_pred)\n"
   ]
  },
  {
   "cell_type": "code",
   "execution_count": 11,
   "metadata": {},
   "outputs": [
    {
     "name": "stdout",
     "output_type": "stream",
     "text": [
      "Mean Squared Error: 1.008310853468612\n",
      "R-squared: 0.8881140743377214\n"
     ]
    }
   ],
   "source": [
    "print(f\"Mean Squared Error: {float(mse)}\")\n",
    "print(f\"R-squared: {float(r2)}\")"
   ]
  },
  {
   "cell_type": "markdown",
   "metadata": {},
   "source": [
    "## End of Group Assignment - week 2"
   ]
  }
 ],
 "metadata": {
  "colab": {
   "provenance": []
  },
  "kernelspec": {
   "display_name": "Python 3",
   "language": "python",
   "name": "python3"
  },
  "language_info": {
   "codemirror_mode": {
    "name": "ipython",
    "version": 3
   },
   "file_extension": ".py",
   "mimetype": "text/x-python",
   "name": "python",
   "nbconvert_exporter": "python",
   "pygments_lexer": "ipython3",
   "version": "3.8.5"
  }
 },
 "nbformat": 4,
 "nbformat_minor": 1
}
